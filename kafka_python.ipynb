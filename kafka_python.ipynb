{
 "cells": [
  {
   "cell_type": "markdown",
   "metadata": {},
   "source": [
    "# Start zookeeper and kafka server\n",
    "\n",
    "Standard procedure operate in shell\n",
    "\n",
    "### 1.start zookeeper\n",
    "bin/zookeeper-server-start.sh config/zookeeper.properties\n",
    "\n",
    "### 2.start kafka server\n",
    "bin/kafka-server-start.sh config/server.properties\n",
    "\n",
    "### 3.create topic test\n",
    "bin/kafka-topics.sh --create --zookeeper localhost:2181 --replication-factor 1 --partitions 1 --topic test\n",
    "\n",
    "### 4.create producer\n",
    "bin/kafka-console-producer.sh --broker-list localhost:9092 --topic test\n",
    "\n",
    "txt here\n",
    "\n",
    "### 5.create consumer\n",
    "bin/kafka-console-consumer.sh --bootstrap-server localhost:9092 --topic test --from-beginning\n",
    "\n",
    "### 6.Check topic\n",
    "bin/kafka-topics.sh --list --zookeeper localhost:2181"
   ]
  },
  {
   "cell_type": "markdown",
   "metadata": {},
   "source": [
    "# Run kafka python locally \n",
    "We create a shell producer and a python producer. Consumer print out every thing on the topic \"python_test_0\".\n",
    "![image](shell_producer.png)"
   ]
  },
  {
   "cell_type": "code",
   "execution_count": 15,
   "metadata": {},
   "outputs": [],
   "source": [
    "from kafka import KafkaConsumer,KafkaProducer\n",
    "topic_1='python_test_0'\n",
    "\n",
    "def producer(topic):\n",
    "    producer = KafkaProducer(bootstrap_servers='localhost:9092')\n",
    "    for i in range(5):\n",
    "        producer.send(topic, b'this massage is coming from python %i' %i).get(timeout=30)\n",
    "    \n",
    "\n",
    "def consumer(topic):\n",
    "    # get every massage from the beginning on localhost 9092 within 1 sec\n",
    "    consumer = KafkaConsumer(bootstrap_servers='localhost:9092',\n",
    "                                 auto_offset_reset='earliest',\n",
    "                                 consumer_timeout_ms=1000)\n",
    "    consumer.subscribe(topic)\n",
    "    \n",
    "    for message in consumer:\n",
    "        \n",
    "        print (\"%s:%d:%d: key=%s,value=%s\" % (message.topic, message.partition,\\\n",
    "                                              message.offset, message.key,message.value))\n",
    "\n",
    "    consumer.close()"
   ]
  },
  {
   "cell_type": "code",
   "execution_count": 49,
   "metadata": {},
   "outputs": [],
   "source": [
    "#send massage from python \n",
    "producer(topic_1)"
   ]
  },
  {
   "cell_type": "code",
   "execution_count": 51,
   "metadata": {},
   "outputs": [
    {
     "name": "stdout",
     "output_type": "stream",
     "text": [
      "python_test_0:0:0: key=None,value=this massage is coming from python 0\n",
      "python_test_0:0:1: key=None,value=this massage is coming from python 1\n",
      "python_test_0:0:2: key=None,value=this massage is coming from python 2\n",
      "python_test_0:0:3: key=None,value=this massage is coming from python 3\n",
      "python_test_0:0:4: key=None,value=this massage is coming from python 4\n",
      "python_test_0:0:5: key=None,value=this massage is comming from shell 0\n",
      "python_test_0:0:6: key=None,value=this massage is comming from shell 1\n",
      "python_test_0:0:7: key=None,value=this massage is comming from shell 2\n"
     ]
    }
   ],
   "source": [
    "#recieve massage from two producers\n",
    "consumer(topic_1)"
   ]
  },
  {
   "cell_type": "markdown",
   "metadata": {},
   "source": [
    "# Run kafka python on twitter\n",
    "1. Get twitter streaming data with keyword\n",
    "2. Use producer send data to kafka server \n",
    "3. Create consumer to recive data from kafka server\n",
    "4. Put data into pandas data frame and do wordcount or other text mining from here. \n"
   ]
  },
  {
   "cell_type": "code",
   "execution_count": 6,
   "metadata": {},
   "outputs": [
    {
     "name": "stdout",
     "output_type": "stream",
     "text": [
      "stop tweepy streaming\n"
     ]
    }
   ],
   "source": [
    "from kafka import KafkaConsumer,KafkaProducer\n",
    "import json\n",
    "#import sentiment_mod as s\n",
    "#Import the necessary methods from tweepy library\n",
    "from tweepy.streaming import StreamListener\n",
    "from tweepy import OAuthHandler\n",
    "from tweepy import Stream,API\n",
    "from kafka import KafkaConsumer,KafkaProducer\n",
    "import time\n",
    "\n",
    "topic_2='tweepy_test_0'\n",
    "producer = KafkaProducer(bootstrap_servers='localhost:9092')\n",
    "#Variables that contains the user credentials to access Twitter API \n",
    "access_token = \"XXXXX\"\n",
    "access_token_secret = \"XXXXX\"\n",
    "consumer_key = \"XXXX\"\n",
    "consumer_secret = \"XXXXX\"\n",
    "\n",
    "\n",
    "#This is a basic listener that just prints received tweets to stdout.\n",
    "class myListener(StreamListener):\n",
    "    def __init__(self, time_limit=60):\n",
    "        self.start_time = time.time()\n",
    "        self.limit = time_limit\n",
    "        \n",
    "    def on_data(self, data):\n",
    "        time_now=time.time() - self.start_time\n",
    "        if time_now < self.limit:\n",
    "            #print data\n",
    "            producer.send(topic_2, data.encode('utf-8'))\n",
    "            return True\n",
    "        else:\n",
    "            print 'stop tweepy streaming'\n",
    "            return False\n",
    "\n",
    "    def on_error(self, status):\n",
    "        print status\n",
    "\n",
    "\n",
    "if __name__ == '__main__':\n",
    "\n",
    "    #This handles Twitter authetification and the connection to Twitter Streaming API\n",
    "    l = myListener()\n",
    "    auth = OAuthHandler(consumer_key, consumer_secret)\n",
    "    auth.set_access_token(access_token, access_token_secret)\n",
    "    myStream = Stream(auth, listener=myListener(time_limit=2))\n",
    "    keyword=['tax','Democrats']\n",
    "    #This line filter Twitter Streams to capture data by the keywords\n",
    "    myStream.filter(track=keyword)"
   ]
  },
  {
   "cell_type": "code",
   "execution_count": 8,
   "metadata": {},
   "outputs": [
    {
     "data": {
      "text/html": [
       "<div>\n",
       "<style>\n",
       "    .dataframe thead tr:only-child th {\n",
       "        text-align: right;\n",
       "    }\n",
       "\n",
       "    .dataframe thead th {\n",
       "        text-align: left;\n",
       "    }\n",
       "\n",
       "    .dataframe tbody tr th {\n",
       "        vertical-align: top;\n",
       "    }\n",
       "</style>\n",
       "<table border=\"1\" class=\"dataframe\">\n",
       "  <thead>\n",
       "    <tr style=\"text-align: right;\">\n",
       "      <th></th>\n",
       "      <th>text</th>\n",
       "      <th>lang</th>\n",
       "    </tr>\n",
       "  </thead>\n",
       "  <tbody>\n",
       "    <tr>\n",
       "      <th>0</th>\n",
       "      <td>RT @owillis: 10 gop president elected\\n20 enac...</td>\n",
       "      <td>en</td>\n",
       "    </tr>\n",
       "    <tr>\n",
       "      <th>1</th>\n",
       "      <td>RT @sunnyherring1: #MikeHuckabee=\\n \"NONE OF U...</td>\n",
       "      <td>en</td>\n",
       "    </tr>\n",
       "    <tr>\n",
       "      <th>2</th>\n",
       "      <td>RT @chuckwoolery: This whole #FISAMemoRelease ...</td>\n",
       "      <td>en</td>\n",
       "    </tr>\n",
       "    <tr>\n",
       "      <th>3</th>\n",
       "      <td>RT @RogueSNRadvisor: \"I want transparency so I...</td>\n",
       "      <td>en</td>\n",
       "    </tr>\n",
       "    <tr>\n",
       "      <th>4</th>\n",
       "      <td>RT @RAM0667: Liberals even deny facts proven b...</td>\n",
       "      <td>en</td>\n",
       "    </tr>\n",
       "    <tr>\n",
       "      <th>5</th>\n",
       "      <td>RT @GrantDCostello: 🕰️ A history of @RuthDavi...</td>\n",
       "      <td>en</td>\n",
       "    </tr>\n",
       "    <tr>\n",
       "      <th>6</th>\n",
       "      <td>RT @PressSec: When Obama was President and Dem...</td>\n",
       "      <td>en</td>\n",
       "    </tr>\n",
       "    <tr>\n",
       "      <th>7</th>\n",
       "      <td>RT @Lrihendry: An oath means nothing to Democr...</td>\n",
       "      <td>en</td>\n",
       "    </tr>\n",
       "    <tr>\n",
       "      <th>8</th>\n",
       "      <td>RT @Jamfan03: @JoeTalkShow My company (Best Bu...</td>\n",
       "      <td>en</td>\n",
       "    </tr>\n",
       "    <tr>\n",
       "      <th>9</th>\n",
       "      <td>RT @mitchellvii: After freaking out for two we...</td>\n",
       "      <td>en</td>\n",
       "    </tr>\n",
       "    <tr>\n",
       "      <th>10</th>\n",
       "      <td>RT @RogueSNRadvisor: \"I want transparency so I...</td>\n",
       "      <td>en</td>\n",
       "    </tr>\n",
       "    <tr>\n",
       "      <th>11</th>\n",
       "      <td>RT @EddieDonovan: Trump: Democrats don’t care ...</td>\n",
       "      <td>en</td>\n",
       "    </tr>\n",
       "    <tr>\n",
       "      <th>12</th>\n",
       "      <td>RT @tedlieu: I read both memos &amp;amp; @realDona...</td>\n",
       "      <td>en</td>\n",
       "    </tr>\n",
       "    <tr>\n",
       "      <th>13</th>\n",
       "      <td>RT @realDonaldTrump: “Trump the orator outline...</td>\n",
       "      <td>en</td>\n",
       "    </tr>\n",
       "  </tbody>\n",
       "</table>\n",
       "</div>"
      ],
      "text/plain": [
       "                                                 text lang\n",
       "0   RT @owillis: 10 gop president elected\\n20 enac...   en\n",
       "1   RT @sunnyherring1: #MikeHuckabee=\\n \"NONE OF U...   en\n",
       "2   RT @chuckwoolery: This whole #FISAMemoRelease ...   en\n",
       "3   RT @RogueSNRadvisor: \"I want transparency so I...   en\n",
       "4   RT @RAM0667: Liberals even deny facts proven b...   en\n",
       "5   RT @GrantDCostello: 🕰️ A history of @RuthDavi...   en\n",
       "6   RT @PressSec: When Obama was President and Dem...   en\n",
       "7   RT @Lrihendry: An oath means nothing to Democr...   en\n",
       "8   RT @Jamfan03: @JoeTalkShow My company (Best Bu...   en\n",
       "9   RT @mitchellvii: After freaking out for two we...   en\n",
       "10  RT @RogueSNRadvisor: \"I want transparency so I...   en\n",
       "11  RT @EddieDonovan: Trump: Democrats don’t care ...   en\n",
       "12  RT @tedlieu: I read both memos &amp; @realDona...   en\n",
       "13  RT @realDonaldTrump: “Trump the orator outline...   en"
      ]
     },
     "execution_count": 8,
     "metadata": {},
     "output_type": "execute_result"
    }
   ],
   "source": [
    "import pandas as pd\n",
    "consumer = KafkaConsumer(bootstrap_servers='localhost:9092',\n",
    "                                 auto_offset_reset='earliest',\n",
    "                                 consumer_timeout_ms=1000)\n",
    "consumer.subscribe(topic_2)\n",
    "\n",
    "tweet=pd.DataFrame()\n",
    "tweet_text=[]\n",
    "tweet_lang=[]\n",
    "for msg in consumer:\n",
    "    all_data = json.loads(msg.value)\n",
    "    #print all_data[\"text\"]\n",
    "    tweet_text.append(all_data[\"text\"])\n",
    "    tweet_lang.append(all_data[\"lang\"])\n",
    "\n",
    "\n",
    "tweet['text']=tweet_text\n",
    "tweet['lang']=tweet_lang\n",
    "tweet.head(20)"
   ]
  },
  {
   "cell_type": "code",
   "execution_count": 10,
   "metadata": {},
   "outputs": [
    {
     "data": {
      "text/plain": [
       "(14, 5)"
      ]
     },
     "execution_count": 10,
     "metadata": {},
     "output_type": "execute_result"
    }
   ],
   "source": [
    "\n",
    "def word_in_sen(word, text):\n",
    "    word=word.lower()\n",
    "    text=text.lower()\n",
    "    if word in text:\n",
    "        return True\n",
    "    else:\n",
    "        return False\n",
    "\n",
    "tweet['tax'] = tweet['text'].apply(lambda x: word_in_sen('tax', x))\n",
    "tweet['Democrats'] = tweet['text'].apply(lambda x: word_in_sen('Democrats', x))\n",
    "tweet.shape"
   ]
  },
  {
   "cell_type": "code",
   "execution_count": 12,
   "metadata": {},
   "outputs": [
    {
     "name": "stdout",
     "output_type": "stream",
     "text": [
      "tax\n",
      "False    10\n",
      "True      4\n",
      "Name: tax, dtype: int64\n",
      "Democrats\n",
      "False    8\n",
      "True     6\n",
      "Name: tax, dtype: int64\n"
     ]
    }
   ],
   "source": [
    "print tweet['tax'].groupby(tweet['tax']).count()\n",
    "print tweet['tax'].groupby(tweet['Democrats']).count()"
   ]
  },
  {
   "cell_type": "code",
   "execution_count": 33,
   "metadata": {},
   "outputs": [
    {
     "data": {
      "image/png": "[encoded data removed]",
      "text/plain": [
       "<matplotlib.figure.Figure at 0x11158f750>"
      ]
     },
     "metadata": {},
     "output_type": "display_data"
    }
   ],
   "source": [
    "import matplotlib.pyplot as plt\n",
    "import matplotlib\n",
    "total=tweet.shape[0]\n",
    "tax_c=tweet[tweet.tax==True]['text'].groupby(tweet['tax']).count()/total\n",
    "D_c=tweet[tweet.Democrats==True]['text'].groupby(tweet['Democrats']).count()/total\n",
    "pd.concat([tax_c, D_c], axis=0,keys=['tax','Democrats']).plot(kind='bar');"
   ]
  },
  {
   "cell_type": "markdown",
   "metadata": {},
   "source": [
    "# Furure work\n",
    "1. Text mining \n",
    "2. Integrate kafka with spark\n",
    "\n",
    "# Reference\n",
    "1.https://kafka.apache.org/quickstart\n",
    "2."
   ]
  }
 ],
 "metadata": {
  "kernelspec": {
   "display_name": "Python 2",
   "language": "python",
   "name": "python2"
  },
  "language_info": {
   "codemirror_mode": {
    "name": "ipython",
    "version": 2
   },
   "file_extension": ".py",
   "mimetype": "text/x-python",
   "name": "python",
   "nbconvert_exporter": "python",
   "pygments_lexer": "ipython2",
   "version": "2.7.12"
  }
 },
 "nbformat": 4,
 "nbformat_minor": 2
}
